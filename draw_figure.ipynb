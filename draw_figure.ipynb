{
 "cells": [
  {
   "cell_type": "code",
   "execution_count": 2,
   "metadata": {},
   "outputs": [],
   "source": [
    "import matplotlib.pyplot as plt\n",
    "import csv\n",
    "import numpy as np\n",
    "import torch"
   ]
  },
  {
   "cell_type": "code",
   "execution_count": null,
   "metadata": {},
   "outputs": [],
   "source": [
    "# Initialize lists to hold the data from the CSV\n",
    "losses = []\n",
    "\n",
    "# Open the CSV file and read data\n",
    "with open('./History/2024_0514_22_01_28_EXP_4/loss.csv', newline='') as csvfile:\n",
    "    reader = csv.reader(csvfile)\n",
    "    next(reader)  # Skip the header row if your CSV has headers\n",
    "    for row in reader:\n",
    "        losses.append(float(row[0]))  # Assuming the first column can be converted to float\n",
    "\n",
    "# Plotting the data\n",
    "plt.figure(figsize=(5, 5), dpi=512)  # Set the figure size (optional)\n",
    "plt.plot(np.linspace(0,1,len(losses)),losses, linewidth=0.5)  # 'o' for circle markers on each data point\n",
    "plt.title('Online Training with EG')  # Title of the plot\n",
    "plt.xlabel('Training process')  # Label for x-axis\n",
    "plt.xscale('linear')\n",
    "plt.yscale('log')\n",
    "plt.ylabel('Loss value')  # Label for y-axis\n",
    "plt.grid(True)  # Show grid lines\n",
    "plt.show()"
   ]
  }
 ],
 "metadata": {
  "kernelspec": {
   "display_name": "pytorch_2_1_2",
   "language": "python",
   "name": "python3"
  },
  "language_info": {
   "codemirror_mode": {
    "name": "ipython",
    "version": 3
   },
   "file_extension": ".py",
   "mimetype": "text/x-python",
   "name": "python",
   "nbconvert_exporter": "python",
   "pygments_lexer": "ipython3",
   "version": "3.11.5"
  }
 },
 "nbformat": 4,
 "nbformat_minor": 2
}
